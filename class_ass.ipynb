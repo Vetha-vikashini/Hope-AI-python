{
 "cells": [
  {
   "cell_type": "code",
   "execution_count": 1,
   "id": "91a76663-78e1-4659-903a-830d78c565f4",
   "metadata": {},
   "outputs": [],
   "source": [
    "class SubfieldsInAI:\n",
    "    def Subfields():\n",
    "        subDomain_list=['Machine Learning','Neural Networks','Vision','Robotics','Speech Processing','Neutral Language Processing']\n",
    "        print(\"Sub-fields in AI are:\")\n",
    "        for item in subDomain_list:\n",
    "            print(item)\n",
    "        "
   ]
  },
  {
   "cell_type": "code",
   "execution_count": 3,
   "id": "cea13497-7a64-4850-baf9-d652ed129ca7",
   "metadata": {},
   "outputs": [
    {
     "name": "stdout",
     "output_type": "stream",
     "text": [
      "Sub-fields in AI are:\n",
      "Machine Learning\n",
      "Neural Networks\n",
      "Vision\n",
      "Robotics\n",
      "Speech Processing\n",
      "Neutral Language Processing\n"
     ]
    }
   ],
   "source": [
    "SubfieldsInAI.Subfields()"
   ]
  },
  {
   "cell_type": "code",
   "execution_count": 7,
   "id": "fc0f88e3-6006-4ba3-85b4-5fd7a2776a7d",
   "metadata": {},
   "outputs": [],
   "source": [
    "class OddEven:\n",
    "    def OddEven(num):\n",
    "        if(num%2==1):\n",
    "            print(Num,\"is Odd Number\")\n",
    "        else:\n",
    "            print(num,\"is Even Number\")"
   ]
  },
  {
   "cell_type": "code",
   "execution_count": 9,
   "id": "49fac97b-4a71-40b5-9233-ee9eea32ec5c",
   "metadata": {},
   "outputs": [
    {
     "name": "stdin",
     "output_type": "stream",
     "text": [
      "Enter Number 52452\n"
     ]
    },
    {
     "name": "stdout",
     "output_type": "stream",
     "text": [
      "52452 is Even Number\n"
     ]
    }
   ],
   "source": [
    "num=int(input(\"Enter Number\"))\n",
    "OddEven.OddEven(num)"
   ]
  },
  {
   "cell_type": "code",
   "execution_count": 15,
   "id": "073a7d41-5ad6-4bd9-97f9-c3f8fc6eef5a",
   "metadata": {},
   "outputs": [],
   "source": [
    "class ElegiblityForMarriage:\n",
    "    def Elegible(gender,age):\n",
    "        if(gender==\"male\"):\n",
    "            if(age>=21):\n",
    "                print(\"ELIGIBLE\")\n",
    "            else:\n",
    "                print(\"NOT ELIGIBLE\")\n",
    "        elif(gender==\"female\"):\n",
    "            if(age>=18):\n",
    "                print(\"ELIGIBLE\")\n",
    "            else:\n",
    "                print(\"NOT ELIGIBLE\")\n",
    "        else:\n",
    "            print(\"valid input\")"
   ]
  },
  {
   "cell_type": "code",
   "execution_count": 17,
   "id": "48b97b34-6651-402b-88a0-226bcca4cba6",
   "metadata": {},
   "outputs": [
    {
     "name": "stdin",
     "output_type": "stream",
     "text": [
      "Enter gender male\n",
      "Enter age 20\n"
     ]
    },
    {
     "name": "stdout",
     "output_type": "stream",
     "text": [
      "NOT ELIGIBLE\n"
     ]
    }
   ],
   "source": [
    "gender=input(\"Enter gender\")\n",
    "age=int(input(\"Enter age\"))\n",
    "ElegiblityForMarriage.Elegible(gender,age)"
   ]
  },
  {
   "cell_type": "code",
   "execution_count": 19,
   "id": "6d50c089-dd21-4862-8457-96744e48376c",
   "metadata": {},
   "outputs": [],
   "source": [
    "class FindPercent:\n",
    "    def percentage(marks):\n",
    "        Total=0\n",
    "        j=1\n",
    "        for i in marks:\n",
    "            print(f\"Subject{j}={i}\")\n",
    "            Total+=i\n",
    "            j=j+1\n",
    "        print(f\"Total:{Total}\")\n",
    "        print(f\"Percentage:{Total/5}\")"
   ]
  },
  {
   "cell_type": "code",
   "execution_count": 21,
   "id": "7e1bd04f-25b7-4f6a-b77b-ee2f9029197f",
   "metadata": {},
   "outputs": [
    {
     "name": "stdin",
     "output_type": "stream",
     "text": [
      "Enter your marks 98 87 95 95 93\n"
     ]
    },
    {
     "name": "stdout",
     "output_type": "stream",
     "text": [
      "Subject1=98\n",
      "Subject2=87\n",
      "Subject3=95\n",
      "Subject4=95\n",
      "Subject5=93\n",
      "Total:468\n",
      "Percentage:93.6\n"
     ]
    }
   ],
   "source": [
    "marks=list(map(int,input(\"Enter your marks\").split(\" \")))\n",
    "FindPercent.percentage(marks)"
   ]
  },
  {
   "cell_type": "code",
   "execution_count": 23,
   "id": "c9948ac4-274b-4e01-8f7a-04a4f8c27f4f",
   "metadata": {},
   "outputs": [],
   "source": [
    "class triangle:\n",
    "    def triangle(h,b,s1,s2,s3):\n",
    "        area=(h*b)/2\n",
    "        perimeter=s1+s2+s3\n",
    "        return area,perimeter"
   ]
  },
  {
   "cell_type": "code",
   "execution_count": 29,
   "id": "eca3612f-0017-4eb7-8e40-e6c5dc2583a5",
   "metadata": {},
   "outputs": [
    {
     "name": "stdin",
     "output_type": "stream",
     "text": [
      "Enter height 32\n",
      "Enter base 34\n",
      "Enter side one 2\n",
      "Enter side two 4\n",
      "Enter side three 4\n"
     ]
    }
   ],
   "source": [
    "height=int(input(\"Enter height\"))\n",
    "base=int(input(\"Enter base\"))\n",
    "side1=int(input(\"Enter side one\"))\n",
    "side2=int(input(\"Enter side two\"))\n",
    "side3=int(input(\"Enter side three\"))\n",
    "area,per=triangle.triangle(height,base,side1,side2,side3)"
   ]
  },
  {
   "cell_type": "code",
   "execution_count": 31,
   "id": "7b90e971-67a1-4c7b-8910-5185090ff8cc",
   "metadata": {},
   "outputs": [
    {
     "name": "stdout",
     "output_type": "stream",
     "text": [
      "Area of Triangle: 544.0\n",
      "Perimeter of Triangle: 10\n"
     ]
    }
   ],
   "source": [
    "print(\"Area of Triangle:\",area)\n",
    "print(\"Perimeter of Triangle:\",per)"
   ]
  },
  {
   "cell_type": "code",
   "execution_count": null,
   "id": "2900490f-33c1-4049-913a-036ea8405679",
   "metadata": {},
   "outputs": [],
   "source": []
  }
 ],
 "metadata": {
  "kernelspec": {
   "display_name": "Python 3 (ipykernel)",
   "language": "python",
   "name": "python3"
  },
  "language_info": {
   "codemirror_mode": {
    "name": "ipython",
    "version": 3
   },
   "file_extension": ".py",
   "mimetype": "text/x-python",
   "name": "python",
   "nbconvert_exporter": "python",
   "pygments_lexer": "ipython3",
   "version": "3.12.4"
  }
 },
 "nbformat": 4,
 "nbformat_minor": 5
}
