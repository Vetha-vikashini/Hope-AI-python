{
 "cells": [
  {
   "cell_type": "code",
   "execution_count": 13,
   "id": "286e6450-33f2-4b75-ac9b-0600c8986384",
   "metadata": {},
   "outputs": [],
   "source": [
    "class ai:\n",
    "    def listing():\n",
    "        subDomain_list=['Machine Learning','Neural Networks','Vision','Robotics','Speech Processing','Neutral Language Processing']\n",
    "        print(\"Sub-fields in AI are:\")\n",
    "        for item in subDomain_list:\n",
    "            print(item)\n",
    "        "
   ]
  },
  {
   "cell_type": "code",
   "execution_count": 15,
   "id": "4241d684-a9b4-4966-9770-83bcb09feaa6",
   "metadata": {},
   "outputs": [
    {
     "name": "stdout",
     "output_type": "stream",
     "text": [
      "Sub-fields in AI are:\n",
      "Machine Learning\n",
      "Neural Networks\n",
      "Vision\n",
      "Robotics\n",
      "Speech Processing\n",
      "Neutral Language Processing\n"
     ]
    }
   ],
   "source": [
    "ai.listing()"
   ]
  },
  {
   "cell_type": "code",
   "execution_count": 17,
   "id": "86b18c8e-4197-473b-8446-4db296284df1",
   "metadata": {},
   "outputs": [],
   "source": [
    "def numClassifier(num):\n",
    "    if(num%2==1):\n",
    "        print(Num,\"is Odd Number\")\n",
    "    else:\n",
    "        print(num,\"is Even Number\")"
   ]
  },
  {
   "cell_type": "code",
   "execution_count": 21,
   "id": "3c48b6a2-2378-4529-89aa-8ac40de1e63d",
   "metadata": {},
   "outputs": [
    {
     "name": "stdin",
     "output_type": "stream",
     "text": [
      "Enter Number 52452\n"
     ]
    },
    {
     "name": "stdout",
     "output_type": "stream",
     "text": [
      "52452 is Even Number\n"
     ]
    }
   ],
   "source": [
    "num=int(input(\"Enter Number\"))\n",
    "numClassifier(num)"
   ]
  },
  {
   "cell_type": "code",
   "execution_count": 25,
   "id": "5f87bd4e-cc09-414a-a706-f26342e82d0e",
   "metadata": {},
   "outputs": [],
   "source": [
    "def MarriageEligible(gender,age):\n",
    "    if(gender==\"male\"):\n",
    "        if(age>=21):\n",
    "            print(\"ELIGIBLE\")\n",
    "        else:\n",
    "            print(\"NOT ELIGIBLE\")\n",
    "    elif(gender==\"female\"):\n",
    "        if(age>=18):\n",
    "            print(\"ELIGIBLE\")\n",
    "        else:\n",
    "            print(\"NOT ELIGIBLE\")\n",
    "    else:\n",
    "        print(\"valid input\")\n",
    "    "
   ]
  },
  {
   "cell_type": "code",
   "execution_count": 27,
   "id": "dfc109fb-5d84-4771-9a22-f8b3fe36ffa1",
   "metadata": {},
   "outputs": [
    {
     "name": "stdin",
     "output_type": "stream",
     "text": [
      "Enter gender male\n",
      "Enter age 20\n"
     ]
    },
    {
     "name": "stdout",
     "output_type": "stream",
     "text": [
      "NOT ELIGIBLE\n"
     ]
    }
   ],
   "source": [
    "gender=input(\"Enter gender\")\n",
    "age=int(input(\"Enter age\"))\n",
    "MarriageEligible(gender,age)"
   ]
  },
  {
   "cell_type": "code",
   "execution_count": 51,
   "id": "6316df02-ceda-4be6-8f0d-c7aa8e3dc0fb",
   "metadata": {},
   "outputs": [],
   "source": [
    "class FindPercent:\n",
    "    def percentage(marks):\n",
    "        Total=0\n",
    "        j=1\n",
    "        for i in marks:\n",
    "            print(f\"Subject{j}={i}\")\n",
    "            Total+=i\n",
    "            j=j+1\n",
    "        print(f\"Total:{Total}\")\n",
    "        print(f\"Percentage:{Total/5}\")\n",
    "            \n",
    "        "
   ]
  },
  {
   "cell_type": "code",
   "execution_count": 37,
   "id": "a5c29e6f-0efd-4f6b-a260-4c6a5088819d",
   "metadata": {},
   "outputs": [
    {
     "name": "stdin",
     "output_type": "stream",
     "text": [
      "Enter your marks 98 87 95 95 93\n"
     ]
    }
   ],
   "source": [
    "marks=list(map(int,input(\"Enter your marks\").split(\" \")))"
   ]
  },
  {
   "cell_type": "code",
   "execution_count": 39,
   "id": "4ecf594e-e95d-4212-baee-df13c0b983a7",
   "metadata": {},
   "outputs": [
    {
     "name": "stdout",
     "output_type": "stream",
     "text": [
      "[98, 87, 95, 95, 93]\n"
     ]
    }
   ],
   "source": [
    "print(marks)"
   ]
  },
  {
   "cell_type": "code",
   "execution_count": 53,
   "id": "e03f1711-5cec-4cb3-b6b3-436d8f31c80a",
   "metadata": {},
   "outputs": [
    {
     "name": "stdout",
     "output_type": "stream",
     "text": [
      "Subject1=98\n",
      "Subject2=87\n",
      "Subject3=95\n",
      "Subject4=95\n",
      "Subject5=93\n",
      "Total:468\n",
      "Percentage:93.6\n"
     ]
    }
   ],
   "source": [
    "FindPercent.percentage(marks)"
   ]
  },
  {
   "cell_type": "code",
   "execution_count": 55,
   "id": "57e4806e-219e-4284-b71e-3c517f61e95b",
   "metadata": {},
   "outputs": [],
   "source": [
    "class triangle:\n",
    "    def triangle(h,b,s1,s2,s3):\n",
    "        area=(h*b)/2\n",
    "        perimeter=s1+s2+s3\n",
    "        return area,perimeter\n",
    "        "
   ]
  },
  {
   "cell_type": "code",
   "execution_count": 67,
   "id": "e2b19953-572c-4405-b92c-4f4aee29a329",
   "metadata": {},
   "outputs": [
    {
     "name": "stdin",
     "output_type": "stream",
     "text": [
      "Enter height 32\n",
      "Enter base 34\n",
      "Enter side one 2\n",
      "Enter side two 4\n",
      "Enter side three 4\n"
     ]
    }
   ],
   "source": [
    "height=int(input(\"Enter height\"))\n",
    "base=int(input(\"Enter base\"))\n",
    "side1=int(input(\"Enter side one\"))\n",
    "side2=int(input(\"Enter side two\"))\n",
    "side3=int(input(\"Enter side three\"))\n",
    "area,per=triangle.triangle(height,base,side1,side2,side3)\n"
   ]
  },
  {
   "cell_type": "code",
   "execution_count": 69,
   "id": "9e1ac1e6-dbf6-4cb4-bdeb-7d17d6ec94ba",
   "metadata": {},
   "outputs": [
    {
     "name": "stdout",
     "output_type": "stream",
     "text": [
      "Area of Triangle: 544.0\n",
      "Perimeter of Triangle: 10\n"
     ]
    }
   ],
   "source": [
    "print(\"Area of Triangle:\",area)\n",
    "print(\"Perimeter of Triangle:\",per)"
   ]
  },
  {
   "cell_type": "code",
   "execution_count": null,
   "id": "9a35bcac-ed62-4d93-8b89-0a9cb7663b07",
   "metadata": {},
   "outputs": [],
   "source": []
  }
 ],
 "metadata": {
  "kernelspec": {
   "display_name": "Python 3 (ipykernel)",
   "language": "python",
   "name": "python3"
  },
  "language_info": {
   "codemirror_mode": {
    "name": "ipython",
    "version": 3
   },
   "file_extension": ".py",
   "mimetype": "text/x-python",
   "name": "python",
   "nbconvert_exporter": "python",
   "pygments_lexer": "ipython3",
   "version": "3.12.4"
  }
 },
 "nbformat": 4,
 "nbformat_minor": 5
}
