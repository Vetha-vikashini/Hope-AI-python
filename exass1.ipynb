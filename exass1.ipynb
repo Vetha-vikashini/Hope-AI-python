{
 "cells": [
  {
   "cell_type": "code",
   "execution_count": 1,
   "id": "8cd43eca-8301-4e73-9632-0d9f925ff39d",
   "metadata": {},
   "outputs": [
    {
     "name": "stdout",
     "output_type": "stream",
     "text": [
      "HOPE AI\n"
     ]
    }
   ],
   "source": [
    "print(\"HOPE AI\")"
   ]
  },
  {
   "cell_type": "code",
   "execution_count": 2,
   "id": "1297b9f5-74e8-447b-8f98-72ad7a5619be",
   "metadata": {},
   "outputs": [
    {
     "name": "stdin",
     "output_type": "stream",
     "text": [
      "Enter your institute name?: HOPE AI\n"
     ]
    },
    {
     "name": "stdout",
     "output_type": "stream",
     "text": [
      "HOPE AI\n"
     ]
    }
   ],
   "source": [
    "print(input(\"Enter your institute name?:\"))"
   ]
  },
  {
   "cell_type": "code",
   "execution_count": 3,
   "id": "5e29b894-0eda-4734-add1-f094bcb57adb",
   "metadata": {},
   "outputs": [
    {
     "name": "stdin",
     "output_type": "stream",
     "text": [
      "Enter your name: Raj\n",
      "Enter your age: 15\n",
      "Enter your school name: Guru school\n",
      "Enter your degree: B.E.CSE\n"
     ]
    },
    {
     "data": {
      "text/plain": [
       "'B.E.CSE'"
      ]
     },
     "execution_count": 3,
     "metadata": {},
     "output_type": "execute_result"
    }
   ],
   "source": [
    "input(\"Enter your name:\")\n",
    "input(\"Enter your age:\")\n",
    "input(\"Enter your school name:\")\n",
    "input(\"Enter your degree:\")"
   ]
  },
  {
   "cell_type": "code",
   "execution_count": 20,
   "id": "466856a0-82ff-473d-a0ef-717c378604c8",
   "metadata": {},
   "outputs": [
    {
     "name": "stdout",
     "output_type": "stream",
     "text": [
      "a= 43 \n",
      "b= 34 \n",
      "add= 77\n"
     ]
    }
   ],
   "source": [
    "a=43\n",
    "b=34\n",
    "print(\"a=\",a,\"\\nb=\",b,\"\\nadd=\",a+b)"
   ]
  },
  {
   "cell_type": "code",
   "execution_count": 4,
   "id": "26737df3-57c5-4879-b268-fa200d3c1938",
   "metadata": {},
   "outputs": [
    {
     "name": "stdout",
     "output_type": "stream",
     "text": [
      "a= 43 \n",
      "b= 34 \n",
      "sub= 9\n"
     ]
    }
   ],
   "source": [
    "a=43\n",
    "b=34\n",
    "print(\"a=\",a,\"\\nb=\",b,\"\\nsub=\",a-b)"
   ]
  },
  {
   "cell_type": "code",
   "execution_count": 5,
   "id": "d231e6cf-9af8-458d-a316-9662e1c491bb",
   "metadata": {},
   "outputs": [
    {
     "name": "stdout",
     "output_type": "stream",
     "text": [
      "a= 63 \n",
      "b= 97 \n",
      "mul= 6111\n"
     ]
    }
   ],
   "source": [
    "a=63\n",
    "b=97\n",
    "print(\"a=\",a,\"\\nb=\",b,\"\\nmul=\",a*b)"
   ]
  },
  {
   "cell_type": "code",
   "execution_count": 6,
   "id": "b4f3c454-0203-402b-9128-47b8370d2605",
   "metadata": {},
   "outputs": [
    {
     "name": "stdout",
     "output_type": "stream",
     "text": [
      "a= 76 \n",
      "b= 31 \n",
      "Float Div= 2.4516129032258065\n"
     ]
    }
   ],
   "source": [
    "a=76\n",
    "b=31\n",
    "print(\"a=\",a,\"\\nb=\",b,\"\\nFloat Div=\",a/b)"
   ]
  },
  {
   "cell_type": "code",
   "execution_count": 7,
   "id": "696e3958-eb08-4a12-94a1-8c127237a4bc",
   "metadata": {},
   "outputs": [
    {
     "name": "stdout",
     "output_type": "stream",
     "text": [
      "a= 76 \n",
      "b= 31 \n",
      "Floor Div= 2\n"
     ]
    }
   ],
   "source": [
    "print(\"a=\",a,\"\\nb=\",b,\"\\nFloor Div=\",a//b)"
   ]
  },
  {
   "cell_type": "code",
   "execution_count": 8,
   "id": "c24f326c-1469-4660-9665-39b139373161",
   "metadata": {},
   "outputs": [
    {
     "name": "stdout",
     "output_type": "stream",
     "text": [
      "a= 76 \n",
      "b= 31 \n",
      "Modulo= 14\n"
     ]
    }
   ],
   "source": [
    "print(\"a=\",a,\"\\nb=\",b,\"\\nModulo=\",a%b)"
   ]
  },
  {
   "cell_type": "code",
   "execution_count": 9,
   "id": "e2e251cc-b947-406c-a776-a1a9cbd4a85f",
   "metadata": {},
   "outputs": [
    {
     "name": "stdout",
     "output_type": "stream",
     "text": [
      "a= 4 \n",
      "b= 4 \n",
      "Power= 256\n"
     ]
    }
   ],
   "source": [
    "a=4\n",
    "b=4\n",
    "print(\"a=\",a,\"\\nb=\",b,\"\\nPower=\",a**b)"
   ]
  },
  {
   "cell_type": "code",
   "execution_count": null,
   "id": "c20a1f79-d714-405b-813c-50003f722a56",
   "metadata": {},
   "outputs": [],
   "source": []
  }
 ],
 "metadata": {
  "kernelspec": {
   "display_name": "Python 3 (ipykernel)",
   "language": "python",
   "name": "python3"
  },
  "language_info": {
   "codemirror_mode": {
    "name": "ipython",
    "version": 3
   },
   "file_extension": ".py",
   "mimetype": "text/x-python",
   "name": "python",
   "nbconvert_exporter": "python",
   "pygments_lexer": "ipython3",
   "version": "3.12.4"
  }
 },
 "nbformat": 4,
 "nbformat_minor": 5
}
