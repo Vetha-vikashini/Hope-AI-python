{
 "cells": [
  {
   "cell_type": "code",
   "execution_count": 1,
   "id": "dd2aae05-5093-417d-b60b-1a358142d941",
   "metadata": {},
   "outputs": [],
   "source": [
    "from class_File import manyFun"
   ]
  },
  {
   "cell_type": "code",
   "execution_count": 5,
   "id": "5bb2d3c9-2a9a-4654-b3dd-06a9acf0d90e",
   "metadata": {},
   "outputs": [
    {
     "name": "stdout",
     "output_type": "stream",
     "text": [
      "Sub-fields in AI are:\n",
      "Machine Learning\n",
      "Neural Networks\n",
      "Vision\n",
      "Robotics\n",
      "Speech Processing\n",
      "Neutral Language Processing\n"
     ]
    }
   ],
   "source": [
    "manyFun.Subfields()"
   ]
  },
  {
   "cell_type": "code",
   "execution_count": 7,
   "id": "6e9e9674-fce0-4229-a497-e4376c466f52",
   "metadata": {},
   "outputs": [
    {
     "name": "stdin",
     "output_type": "stream",
     "text": [
      "Enter Number 567\n"
     ]
    },
    {
     "name": "stdout",
     "output_type": "stream",
     "text": [
      "567 is Odd Number\n"
     ]
    }
   ],
   "source": [
    "manyFun.OddEven()"
   ]
  },
  {
   "cell_type": "code",
   "execution_count": 9,
   "id": "e11b8862-568c-4b04-8824-64094d6bc6e3",
   "metadata": {},
   "outputs": [
    {
     "name": "stdin",
     "output_type": "stream",
     "text": [
      "Enter gender female\n",
      "Enter age 17\n"
     ]
    },
    {
     "name": "stdout",
     "output_type": "stream",
     "text": [
      "NOT ELIGIBLE\n"
     ]
    }
   ],
   "source": [
    "manyFun.Elegible()"
   ]
  },
  {
   "cell_type": "code",
   "execution_count": 11,
   "id": "21549a37-a140-4dc2-b152-b31a1b4e126e",
   "metadata": {},
   "outputs": [
    {
     "name": "stdin",
     "output_type": "stream",
     "text": [
      "Enter your marks 98 93 84 100 89\n"
     ]
    },
    {
     "name": "stdout",
     "output_type": "stream",
     "text": [
      "Subject1=98\n",
      "Subject2=93\n",
      "Subject3=84\n",
      "Subject4=100\n",
      "Subject5=89\n",
      "Total:464\n",
      "Percentage:92.8\n"
     ]
    }
   ],
   "source": [
    "manyFun.percentage()"
   ]
  },
  {
   "cell_type": "code",
   "execution_count": 13,
   "id": "b58f0b4c-bd54-4e00-8f19-6d4236866730",
   "metadata": {},
   "outputs": [
    {
     "name": "stdin",
     "output_type": "stream",
     "text": [
      "Enter height 38\n",
      "Enter base 47\n",
      "Enter side one 3\n",
      "Enter side two 6\n",
      "Enter side three 8\n"
     ]
    },
    {
     "name": "stdout",
     "output_type": "stream",
     "text": [
      "Area of Triangle: 893.0\n",
      "Perimeter of Triangle: 17\n"
     ]
    }
   ],
   "source": [
    "manyFun.triangle()"
   ]
  },
  {
   "cell_type": "code",
   "execution_count": null,
   "id": "1f2219a1-84d0-4e25-be01-ff99b0a6273f",
   "metadata": {},
   "outputs": [],
   "source": []
  }
 ],
 "metadata": {
  "kernelspec": {
   "display_name": "Python 3 (ipykernel)",
   "language": "python",
   "name": "python3"
  },
  "language_info": {
   "codemirror_mode": {
    "name": "ipython",
    "version": 3
   },
   "file_extension": ".py",
   "mimetype": "text/x-python",
   "name": "python",
   "nbconvert_exporter": "python",
   "pygments_lexer": "ipython3",
   "version": "3.12.4"
  }
 },
 "nbformat": 4,
 "nbformat_minor": 5
}
